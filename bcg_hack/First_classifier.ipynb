{
 "cells": [
  {
   "cell_type": "code",
   "execution_count": 1,
   "metadata": {},
   "outputs": [],
   "source": [
    "import numpy as np\n",
    "import sklearn as skl\n",
    "from matplotlib import pyplot as plt\n",
    "import seaborn as sns\n",
    "import pandas as pd\n",
    "\n",
    "# Additional imports\n",
    "from sklearn.model_selection import train_test_split\n",
    "from sklearn.linear_model import LogisticRegression\n",
    "from sklearn.linear_model import LogisticRegression\n",
    "from sklearn.metrics import precision_score, recall_score, accuracy_score\n",
    "\n",
    "np.set_printoptions(suppress = True, precision=4)"
   ]
  },
  {
   "cell_type": "markdown",
   "metadata": {},
   "source": [
    "# First classifier"
   ]
  },
  {
   "cell_type": "code",
   "execution_count": 2,
   "metadata": {},
   "outputs": [
    {
     "data": {
      "text/html": [
       "<div>\n",
       "<style scoped>\n",
       "    .dataframe tbody tr th:only-of-type {\n",
       "        vertical-align: middle;\n",
       "    }\n",
       "\n",
       "    .dataframe tbody tr th {\n",
       "        vertical-align: top;\n",
       "    }\n",
       "\n",
       "    .dataframe thead th {\n",
       "        text-align: right;\n",
       "    }\n",
       "</style>\n",
       "<table border=\"1\" class=\"dataframe\">\n",
       "  <thead>\n",
       "    <tr style=\"text-align: right;\">\n",
       "      <th></th>\n",
       "      <th>customer_id</th>\n",
       "      <th>month</th>\n",
       "      <th>months_since_joined</th>\n",
       "      <th>referred_friends</th>\n",
       "      <th>transaction_count</th>\n",
       "      <th>transaction_value</th>\n",
       "      <th>clv</th>\n",
       "      <th>total_reward_points</th>\n",
       "      <th>earned_reward_points</th>\n",
       "      <th>cluster</th>\n",
       "      <th>churned</th>\n",
       "    </tr>\n",
       "  </thead>\n",
       "  <tbody>\n",
       "    <tr>\n",
       "      <th>0</th>\n",
       "      <td>2</td>\n",
       "      <td>2017-02-01</td>\n",
       "      <td>62</td>\n",
       "      <td>1</td>\n",
       "      <td>58.0</td>\n",
       "      <td>743.785020</td>\n",
       "      <td>24461.876134</td>\n",
       "      <td>41822.999177</td>\n",
       "      <td>2146.0</td>\n",
       "      <td>B</td>\n",
       "      <td>False</td>\n",
       "    </tr>\n",
       "    <tr>\n",
       "      <th>1</th>\n",
       "      <td>4</td>\n",
       "      <td>2017-02-01</td>\n",
       "      <td>62</td>\n",
       "      <td>1</td>\n",
       "      <td>17.0</td>\n",
       "      <td>185.170485</td>\n",
       "      <td>6089.955209</td>\n",
       "      <td>9374.999673</td>\n",
       "      <td>153.0</td>\n",
       "      <td>B</td>\n",
       "      <td>False</td>\n",
       "    </tr>\n",
       "    <tr>\n",
       "      <th>2</th>\n",
       "      <td>7</td>\n",
       "      <td>2017-02-01</td>\n",
       "      <td>62</td>\n",
       "      <td>1</td>\n",
       "      <td>71.0</td>\n",
       "      <td>71.000000</td>\n",
       "      <td>2335.074193</td>\n",
       "      <td>14302.040625</td>\n",
       "      <td>213.0</td>\n",
       "      <td>B</td>\n",
       "      <td>False</td>\n",
       "    </tr>\n",
       "    <tr>\n",
       "      <th>3</th>\n",
       "      <td>14</td>\n",
       "      <td>2017-02-01</td>\n",
       "      <td>62</td>\n",
       "      <td>0</td>\n",
       "      <td>25.0</td>\n",
       "      <td>187.986119</td>\n",
       "      <td>6182.556815</td>\n",
       "      <td>3200.996803</td>\n",
       "      <td>225.0</td>\n",
       "      <td>C</td>\n",
       "      <td>False</td>\n",
       "    </tr>\n",
       "    <tr>\n",
       "      <th>4</th>\n",
       "      <td>20</td>\n",
       "      <td>2017-02-01</td>\n",
       "      <td>62</td>\n",
       "      <td>0</td>\n",
       "      <td>63.0</td>\n",
       "      <td>342.682994</td>\n",
       "      <td>11270.284723</td>\n",
       "      <td>31744.997234</td>\n",
       "      <td>1071.0</td>\n",
       "      <td>B</td>\n",
       "      <td>False</td>\n",
       "    </tr>\n",
       "  </tbody>\n",
       "</table>\n",
       "</div>"
      ],
      "text/plain": [
       "   customer_id       month  months_since_joined  referred_friends  \\\n",
       "0            2  2017-02-01                   62                 1   \n",
       "1            4  2017-02-01                   62                 1   \n",
       "2            7  2017-02-01                   62                 1   \n",
       "3           14  2017-02-01                   62                 0   \n",
       "4           20  2017-02-01                   62                 0   \n",
       "\n",
       "   transaction_count  transaction_value           clv  total_reward_points  \\\n",
       "0               58.0         743.785020  24461.876134         41822.999177   \n",
       "1               17.0         185.170485   6089.955209          9374.999673   \n",
       "2               71.0          71.000000   2335.074193         14302.040625   \n",
       "3               25.0         187.986119   6182.556815          3200.996803   \n",
       "4               63.0         342.682994  11270.284723         31744.997234   \n",
       "\n",
       "   earned_reward_points cluster  churned  \n",
       "0                2146.0       B    False  \n",
       "1                 153.0       B    False  \n",
       "2                 213.0       B    False  \n",
       "3                 225.0       C    False  \n",
       "4                1071.0       B    False  "
      ]
     },
     "execution_count": 2,
     "metadata": {},
     "output_type": "execute_result"
    }
   ],
   "source": [
    "# Load data \n",
    "path = '/Users/yjansson/Downloads/customer_data.csv'\n",
    "\n",
    "df = pd.read_csv(path)\n",
    "df.head(5)"
   ]
  },
  {
   "cell_type": "code",
   "execution_count": 3,
   "metadata": {},
   "outputs": [],
   "source": [
    "# Select which features to use\n",
    "feature_list = [\"transaction_count\", \"transaction_value\"]\n",
    "X = df[feature_list]\n",
    "y = np.array(df[\"churned\"])\n",
    "\n",
    "# Split in training and test set\n",
    "X_train, X_test, y_train, y_test = train_test_split(X, y, test_size = 0.5)"
   ]
  },
  {
   "cell_type": "code",
   "execution_count": 4,
   "metadata": {},
   "outputs": [],
   "source": [
    "# Fit classifier"
   ]
  },
  {
   "cell_type": "code",
   "execution_count": 5,
   "metadata": {},
   "outputs": [],
   "source": [
    "clf = LogisticRegression(class_weight=\"balanced\")\n",
    "\n",
    "clf.fit(X_train, y_train)\n",
    "\n",
    "y_pred = clf.predict(X_test)"
   ]
  },
  {
   "cell_type": "code",
   "execution_count": 10,
   "metadata": {},
   "outputs": [
    {
     "name": "stdout",
     "output_type": "stream",
     "text": [
      "Accuracy: 0.48\n",
      "\n",
      "Precision: 0.07\n",
      "\n",
      "Recall: 0.86\n",
      "\n"
     ]
    }
   ],
   "source": [
    "from sklearn.metrics import precision_score, recall_score\n",
    "\n",
    "acc = accuracy_score(y_test, y_pred)\n",
    "print(\"Accuracy: {:.2f}\".format(acc))\n",
    "print()\n",
    "\n",
    "precision = precision_score(y_test, y_pred)   # TP/(TP + FP)\n",
    "print(\"Precision: {:.2f}\".format(precision))\n",
    "print()\n",
    "\n",
    "recall = recall_score(y_test, y_pred)        # TP/(TP + FN) = TP/P\n",
    "print(\"Recall: {:.2f}\".format(recall))\n",
    "print()"
   ]
  },
  {
   "cell_type": "code",
   "execution_count": 11,
   "metadata": {},
   "outputs": [
    {
     "name": "stdout",
     "output_type": "stream",
     "text": [
      "[[2898296 3372236]\n",
      " [  41370  253724]]\n",
      "\n",
      "['TP', 'FP']\n",
      "['FN', 'TN']\n"
     ]
    }
   ],
   "source": [
    "from sklearn.metrics import confusion_matrix\n",
    "cm = confusion_matrix(y_test, y_pred)\n",
    "print(cm)\n",
    "print()\n",
    "print([\"TP\",\"FP\"])\n",
    "print([\"FN\",\"TN\"])"
   ]
  },
  {
   "cell_type": "code",
   "execution_count": null,
   "metadata": {},
   "outputs": [],
   "source": []
  }
 ],
 "metadata": {
  "kernelspec": {
   "display_name": "Python 3",
   "language": "python",
   "name": "python3"
  },
  "language_info": {
   "codemirror_mode": {
    "name": "ipython",
    "version": 3
   },
   "file_extension": ".py",
   "mimetype": "text/x-python",
   "name": "python",
   "nbconvert_exporter": "python",
   "pygments_lexer": "ipython3",
   "version": "3.6.5"
  },
  "toc": {
   "base_numbering": 1,
   "nav_menu": {},
   "number_sections": true,
   "sideBar": true,
   "skip_h1_title": false,
   "title_cell": "Table of Contents",
   "title_sidebar": "Contents",
   "toc_cell": false,
   "toc_position": {},
   "toc_section_display": true,
   "toc_window_display": false
  }
 },
 "nbformat": 4,
 "nbformat_minor": 4
}
